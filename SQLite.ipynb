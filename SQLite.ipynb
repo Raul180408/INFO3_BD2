{
  "nbformat": 4,
  "nbformat_minor": 0,
  "metadata": {
    "colab": {
      "provenance": []
    },
    "kernelspec": {
      "name": "python3",
      "display_name": "Python 3"
    },
    "language_info": {
      "name": "python"
    }
  },
  "cells": [
    {
      "cell_type": "code",
      "execution_count": 23,
      "metadata": {
        "id": "DkZGasTrIfcj"
      },
      "outputs": [],
      "source": [
        "## Forma mais direta\n",
        "import sqlite3\n",
        "conn = sqlite3.connect('pizza_app.sqlite3')\n",
        "cursor = conn.cursor()"
      ]
    },
    {
      "cell_type": "code",
      "source": [
        "from sqlite3 import Error\n",
        "\n",
        "def execute_query(connection, query):\n",
        "    cursor = connection.cursor()\n",
        "    try:\n",
        "        cursor.execute(query)\n",
        "\n",
        "        # commit necessário para alterações no banco\n",
        "        connection.commit() ###\n",
        "\n",
        "        print(f\"Query executada.\")\n",
        "        if cursor.rowcount != -1:\n",
        "            print(f\"{cursor.rowcount} linha(s) afetadas\")\n",
        "\n",
        "    except Error as e:\n",
        "        print(f\"Erro: '{e}'\")"
      ],
      "metadata": {
        "id": "VZ62bx3CR9Tu"
      },
      "execution_count": 24,
      "outputs": []
    },
    {
      "cell_type": "code",
      "source": [
        "# Cria a tabela produto #\n",
        "create_produto_table = \\\n",
        "\"\"\"CREATE TABLE produto (\n",
        "    id_produto INTEGER PRIMARY KEY AUTOINCREMENT,\n",
        "    tipo VARCHAR(50),\n",
        "    desc_item VARCHAR(100),\n",
        "    vl_preco DECIMAL(10, 2)\n",
        ");\"\"\"\n",
        "\n",
        "execute_query(conn, create_produto_table)\n",
        "#########################\n",
        "\n",
        "# Cria a tabela pedido #\n",
        "create_pedido_table = \\\n",
        "\"\"\"CREATE TABLE pedido (\n",
        "    id_pedido INTEGER PRIMARY KEY AUTOINCREMENT,\n",
        "    dt_pedido DATE,\n",
        "    fl_ketchup BOOLEAN,\n",
        "    desc_uf CHAR(2),\n",
        "    txt_recado TEXT\n",
        ");\"\"\"\n",
        "\n",
        "execute_query(conn, create_pedido_table)\n",
        "#########################\n",
        "\n",
        "# Cria a tabela item_pedido #\n",
        "create_item_pedido_table = \\\n",
        "\"\"\"CREATE TABLE item_pedido (\n",
        "    id_pedido INT NOT NULL,\n",
        "    id_produto INT NOT NULL,\n",
        "    quantidade INT NOT NULL,\n",
        "    PRIMARY KEY (id_pedido, id_produto),\n",
        "    FOREIGN KEY (id_pedido) REFERENCES pedido(id_pedido),\n",
        "    FOREIGN KEY (id_produto) REFERENCES produto(id_produto)\n",
        ");\"\"\"\n",
        "execute_query(conn, create_item_pedido_table)"
      ],
      "metadata": {
        "colab": {
          "base_uri": "https://localhost:8080/"
        },
        "id": "ISDE4cGXPda4",
        "outputId": "5a6656c4-1aca-4567-a979-1899f05e7212"
      },
      "execution_count": 25,
      "outputs": [
        {
          "output_type": "stream",
          "name": "stdout",
          "text": [
            "Query executada.\n",
            "Query executada.\n",
            "Query executada.\n"
          ]
        }
      ]
    },
    {
      "cell_type": "code",
      "source": [
        "## Inserindo registros manualmente\n",
        "\n",
        "# Inserindo produto #\n",
        "insert_produto = \\\n",
        "\"\"\"INSERT INTO\n",
        "produto (tipo, desc_item, vl_preco)\n",
        "VALUES\n",
        "('ingrediente', 'camarão', 6),\n",
        "('massa', 'tradicional', 9.25),\n",
        "('borda', 'tradicional', 0),\n",
        "('queijo', 'muçarela', 4),\n",
        "('bebida', 'refrigerante', 5);\n",
        "\"\"\"\n",
        "execute_query(conn, insert_produto)\n",
        "######################\n",
        "\n",
        "# Inserindo pedido\n",
        "insert_pedido = \\\n",
        "\"\"\"INSERT INTO\n",
        "pedido (dt_pedido, fl_ketchup, desc_uf, txt_recado)\n",
        "VALUES\n",
        "('2023-06-01', TRUE, 'MG', 'Capricha no queijo!');\n",
        "\"\"\"\n",
        "execute_query(conn, insert_pedido)\n",
        "######################"
      ],
      "metadata": {
        "colab": {
          "base_uri": "https://localhost:8080/"
        },
        "id": "TjQcmTaHN-JR",
        "outputId": "2a142eef-0e13-4504-b81b-f982ca6e686c"
      },
      "execution_count": 27,
      "outputs": [
        {
          "output_type": "stream",
          "name": "stdout",
          "text": [
            "Query executada.\n",
            "5 linha(s) afetadas\n",
            "Query executada.\n",
            "1 linha(s) afetadas\n"
          ]
        }
      ]
    },
    {
      "cell_type": "code",
      "source": [
        "def execute_read_query(conn, query):\n",
        "    cursor = conn.cursor()\n",
        "    result = None\n",
        "    try:\n",
        "        cursor.execute(query)\n",
        "        result = cursor.fetchall()\n",
        "\n",
        "        return result\n",
        "    except Error as e:\n",
        "        print(f\"Erro: '{e}'\")"
      ],
      "metadata": {
        "id": "J6qEyeYvTX3f"
      },
      "execution_count": 30,
      "outputs": []
    },
    {
      "cell_type": "code",
      "source": [
        "cursor.execute(\"insert into produto(tipo, desc_item, vl_preco) values('ingrediente', 'calabresa', 10)\")"
      ],
      "metadata": {
        "colab": {
          "base_uri": "https://localhost:8080/"
        },
        "id": "9ss8O-m6Tk6f",
        "outputId": "2c5d5738-0eda-4531-edf4-e127a48c89e1"
      },
      "execution_count": 32,
      "outputs": [
        {
          "output_type": "execute_result",
          "data": {
            "text/plain": [
              "<sqlite3.Cursor at 0x78e9e2330bc0>"
            ]
          },
          "metadata": {},
          "execution_count": 32
        }
      ]
    },
    {
      "cell_type": "code",
      "source": [
        "tabela = 'produto'\n",
        "query = f\"SELECT * FROM {tabela}\"\n",
        "resultado = execute_read_query(conn, query)\n",
        "\n",
        "print(f\"Tabela: {tabela}\")\n",
        "for res in resultado:\n",
        "    print(res)"
      ],
      "metadata": {
        "colab": {
          "base_uri": "https://localhost:8080/"
        },
        "id": "mZdKQ5fsTfiN",
        "outputId": "d7293d2a-b009-4c40-dce8-c64ac92315d3"
      },
      "execution_count": 33,
      "outputs": [
        {
          "output_type": "stream",
          "name": "stdout",
          "text": [
            "Tabela: produto\n",
            "(1, 'ingrediente', 'camarão', 6)\n",
            "(2, 'massa', 'tradicional', 9.25)\n",
            "(3, 'borda', 'tradicional', 0)\n",
            "(4, 'queijo', 'muçarela', 4)\n",
            "(5, 'bebida', 'refrigerante', 5)\n",
            "(6, 'ingrediente', 'calabresa', 10)\n"
          ]
        }
      ]
    }
  ]
}