{
  "nbformat": 4,
  "nbformat_minor": 0,
  "metadata": {
    "colab": {
      "provenance": [],
      "authorship_tag": "ABX9TyNf6NWW3XgvPVPEiKmWfFKk",
      "include_colab_link": true
    },
    "kernelspec": {
      "name": "python3",
      "display_name": "Python 3"
    },
    "language_info": {
      "name": "python"
    }
  },
  "cells": [
    {
      "cell_type": "markdown",
      "metadata": {
        "id": "view-in-github",
        "colab_type": "text"
      },
      "source": [
        "<a href=\"https://colab.research.google.com/github/Raul180408/INFO3_BD2/blob/main/atividade_view%2C_procedure%2C_function_e_trigger.ipynb\" target=\"_parent\"><img src=\"https://colab.research.google.com/assets/colab-badge.svg\" alt=\"Open In Colab\"/></a>"
      ]
    },
    {
      "cell_type": "markdown",
      "source": [
        "nomes: Raul e Jonathan"
      ],
      "metadata": {
        "id": "Wt52wfuSBbSN"
      }
    },
    {
      "cell_type": "markdown",
      "source": [
        "questão 1"
      ],
      "metadata": {
        "id": "-FqiGZrzBOic"
      }
    },
    {
      "cell_type": "code",
      "execution_count": null,
      "metadata": {
        "id": "7uclcVoNAx9d"
      },
      "outputs": [],
      "source": [
        "query = \"\"\"\n",
        "select count(registroTaxista) as TotalTaxistas\n",
        "from RegiaoTaxista\n",
        "\"\"\""
      ]
    },
    {
      "cell_type": "markdown",
      "source": [
        "questão 2"
      ],
      "metadata": {
        "id": "Ete5wzv8BNY0"
      }
    },
    {
      "cell_type": "code",
      "source": [
        "query = \"\"\"\n",
        "create view vw_TotalTaxistas as\n",
        "select r.nome count(rt.registroTaxista) as TotalTaxistas\n",
        "from RegiaoTaxista rt\n",
        "join Taxista t on rt.registroTaxista = t.registro\n",
        "join Regiao r on rt.idRegiao = r.idRegiao\n",
        "group by r.nome as nomeRegiao;\n",
        "\"\"\""
      ],
      "metadata": {
        "id": "qFizy3v4Ay9i"
      },
      "execution_count": null,
      "outputs": []
    },
    {
      "cell_type": "markdown",
      "source": [
        "questão 3"
      ],
      "metadata": {
        "id": "DcBFT4TNBL2K"
      }
    },
    {
      "cell_type": "code",
      "source": [
        "query = \"\"\"\n",
        "create view vw as\n",
        "select r.nome as nomeRegiao, m.nome as nomeMunicipio\n",
        "from Regiao r\n",
        "join RegiaoTaxista rt on r.idRegiao = rt.idRegiao\n",
        "join Municipio m on r.idMunicipio = m.idMunicipio;\n",
        "join RegiaoMunicipio rm on r.id = rm.idRegiao;\n",
        "where t.nome == 'Aline Silva' and rm.idMunicipio = m.id and t.registro = rt.registroTaxista;\n",
        "\"\"\""
      ],
      "metadata": {
        "id": "U3y0P-1pA1iU"
      },
      "execution_count": null,
      "outputs": []
    },
    {
      "cell_type": "markdown",
      "source": [
        "questão 4"
      ],
      "metadata": {
        "id": "6bWE3kaCBKX7"
      }
    },
    {
      "cell_type": "code",
      "source": [
        "query = \"\"\"\n",
        "DELIMITER $$\n",
        "CREATE PROCEDURE sp_nome_municipio_regiao_atua(IN p_nomeTaxista int)\n",
        "BEGIN\n",
        "  select r.nome as nomeRegiao, m.nome as nomeMunicipio\n",
        "  from Regiao r\n",
        "  join RegiaoTaxista rt on r.idRegiao = rt.idRegiao\n",
        "  join Municipio m on r.idMunicipio = m.idMunicipio;\n",
        "  join RegiaoMunicipio rm on r.id = rm.idRegiao;\n",
        "  where t.nome == p_nomeTaxista and rm.idMunicipio = m.id and t.registro = rt.registroTaxista;\n",
        " END $$\n",
        "DELIMITER ;\n",
        "\"\"\"\n"
      ],
      "metadata": {
        "id": "Xv_sVCXyA3g1"
      },
      "execution_count": null,
      "outputs": []
    },
    {
      "cell_type": "markdown",
      "source": [
        "questão 5"
      ],
      "metadata": {
        "id": "Mx-_qS6rBJUq"
      }
    },
    {
      "cell_type": "code",
      "source": [
        "query = \"\"\"\n",
        "DELIMITER $$\n",
        "CREATE FUNCTION fn_qtd_municipios_atendidos(p_nomeTaxista INT)\n",
        "RETURNS INT DETERMINISTIC\n",
        "BEGIN\n",
        "declare qtd_atendidos int;\n",
        "  select count(m.id as idMunicipio) into qtd_atendidos\n",
        "  from Regiao r\n",
        "  join RegiaoTaxista rt on r.idRegiao = rt.idRegiao\n",
        "  join Municipio m on r.idMunicipio = m.idMunicipio\n",
        "  join RegiaoMunicipio rm on r.id = rm.idRegiao\n",
        "  where t.nome == p_nomeTaxista and rm.idMunicipio = m.id and t.registro = rt.registroTaxista;\n",
        "  return qtd_atendidos;\n",
        " END $$\n",
        "DELIMITER ;\n",
        "\n",
        "call fn_qtd_municipios_atendidos('João Souza')\n",
        "\"\"\""
      ],
      "metadata": {
        "id": "BhCEE6HcA4EQ"
      },
      "execution_count": null,
      "outputs": []
    },
    {
      "cell_type": "markdown",
      "source": [
        "questão 6"
      ],
      "metadata": {
        "id": "1-loHq4dBHgL"
      }
    },
    {
      "cell_type": "code",
      "source": [
        "query = \"\"\"\n",
        "DELIMITER $$\n",
        "CREATE FUNCTION fn_qtd_municipios_atendidos(p_nomeTaxista INT)\n",
        "RETURNS INT DETERMINISTIC\n",
        "BEGIN\n",
        "declare qtd_atendidos int;\n",
        "  if(p_nomeTaxista exists) then\n",
        "    select count(m.id as idMunicipio) into qtd_atendidos\n",
        "    from Regiao r\n",
        "    join RegiaoTaxista rt on r.idRegiao = rt.idRegiao\n",
        "    join Municipio m on r.idMunicipio = m.idMunicipio\n",
        "    join RegiaoMunicipio rm on r.id = rm.idRegiao\n",
        "    where t.nome == p_nomeTaxista and rm.idMunicipio = m.id and t.registro = rt.registroTaxista;\n",
        "    return qtd_atendidos;\n",
        "  else\n",
        "    SIGNAL SQLSTATE '45000'\n",
        "    SET MESSAGE_TEXT = 'Taxista não cadastrada, verifique o nome informado';\n",
        "  end if;\n",
        " END $$\n",
        "DELIMITER ;\n",
        "\n",
        "\"\"\""
      ],
      "metadata": {
        "id": "qNXGFlXKA4KC"
      },
      "execution_count": null,
      "outputs": []
    },
    {
      "cell_type": "markdown",
      "source": [
        "questão 7"
      ],
      "metadata": {
        "id": "LKI_naatBEVq"
      }
    },
    {
      "cell_type": "code",
      "source": [
        "query = \"\"\"\n",
        "DELIMITER //\n",
        "CREATE TRIGGER trg_verifica_novo_taxista\n",
        "BEFORE INSERT ON RegiaoTaxista FOR EACH ROW\n",
        "BEGIN\n",
        "  UPDATE Taxista SET Salario_Base = Salario_base * 1.1 WHERE new.registro = RegiaoTaxista.registroTaxista;\n",
        "END //\n",
        "DELIMITER ;\n",
        "\"\"\"\n",
        "query = \"\"\"\n",
        "insert on RegiaoTaxista(taxa_comissao, salario_base, nome, registro, contato) values(100, 100, raul, 1, '(31)99999-9999')\n",
        "\"\"\""
      ],
      "metadata": {
        "id": "NZbJKl-RA4RU"
      },
      "execution_count": null,
      "outputs": []
    },
    {
      "cell_type": "markdown",
      "source": [
        "questão 8"
      ],
      "metadata": {
        "id": "WhlCUotBBCZr"
      }
    },
    {
      "cell_type": "code",
      "source": [
        "query = \"\"\"\n",
        "DELIMITER //\n",
        "CREATE TRIGGER trg_verifica_novo_taxista\n",
        "BEFORE delete ON RegiaoTaxista FOR EACH ROW\n",
        "BEGIN\n",
        "  UPDATE Taxista SET Salario_Base = Salario_base / 1.1 WHERE new.registro = RegiaoTaxista.registroTaxista;\n",
        "END //\n",
        "DELIMITER ;\n",
        "\"\"\"\n",
        "query = \"\"\"\n",
        "delete on RegiaoTaxista(taxa_comissao, salario_base, nome, registro, contato) values(100, 100, raul, 1, '(31)99999-9999')\n",
        "\"\"\""
      ],
      "metadata": {
        "id": "TTZjsKPHA4Zl"
      },
      "execution_count": null,
      "outputs": []
    }
  ]
}